{
 "cells": [
  {
   "cell_type": "code",
   "execution_count": null,
   "metadata": {},
   "outputs": [],
   "source": [
    "from pathlib import Path\n",
    "\n",
    "import torch\n",
    "from ipyfilechooser import FileChooser\n",
    "from PIL import Image\n",
    "from transformers import AutoModelForImageClassification, AutoProcessor"
   ]
  },
  {
   "cell_type": "code",
   "execution_count": null,
   "metadata": {},
   "outputs": [],
   "source": [
    "fc = FileChooser(\"../data/raw/example\")\n",
    "fc.filter_pattern = [\"*.jpg\", \"*.jpeg\", \"*.png\"]\n",
    "\n",
    "display(fc)"
   ]
  },
  {
   "cell_type": "code",
   "execution_count": null,
   "metadata": {},
   "outputs": [],
   "source": [
    "FALLBACK_WAV_PATH = \"../data/raw/example/01-02-03-01-01-01-01_frame_100.jpg\"\n",
    "SAMPLE_IMAGE_PATH = Path(fc.selected if fc.selected is not None else FALLBACK_WAV_PATH)"
   ]
  },
  {
   "cell_type": "code",
   "execution_count": null,
   "metadata": {},
   "outputs": [],
   "source": [
    "# Load pre-trained emotion model\n",
    "model_name = \"dima806/facial_emotions_image_detection\"\n",
    "processor = AutoProcessor.from_pretrained(model_name, use_fast=True)\n",
    "model = AutoModelForImageClassification.from_pretrained(model_name)\n",
    "\n",
    "\n",
    "image = Image.open(SAMPLE_IMAGE_PATH)\n",
    "inputs = processor(images=image, return_tensors=\"pt\")\n",
    "\n",
    "with torch.no_grad():\n",
    "    outputs = model(**inputs)\n",
    "\n",
    "probs = torch.nn.functional.softmax(outputs.logits, dim=-1)\n",
    "predicted_index = torch.argmax(probs, dim=-1).item()\n",
    "predicted_emotion = model.config.id2label[predicted_index]\n",
    "\n",
    "print(f\"Predicted emotion: {predicted_emotion}\")"
   ]
  }
 ],
 "metadata": {
  "kernelspec": {
   "display_name": ".venv",
   "language": "python",
   "name": "python3"
  },
  "language_info": {
   "codemirror_mode": {
    "name": "ipython",
    "version": 3
   },
   "file_extension": ".py",
   "mimetype": "text/x-python",
   "name": "python",
   "nbconvert_exporter": "python",
   "pygments_lexer": "ipython3",
   "version": "3.11.11"
  }
 },
 "nbformat": 4,
 "nbformat_minor": 2
}
