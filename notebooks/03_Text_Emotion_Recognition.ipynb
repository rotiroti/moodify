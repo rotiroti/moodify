{
 "cells": [
  {
   "cell_type": "markdown",
   "metadata": {},
   "source": [
    "# Moodify - Text Emotion Recognition"
   ]
  },
  {
   "cell_type": "code",
   "execution_count": null,
   "metadata": {},
   "outputs": [],
   "source": [
    "import ipywidgets as widgets\n",
    "import matplotlib.pyplot as plt\n",
    "import seaborn as sns\n",
    "import torch\n",
    "from IPython.display import display\n",
    "from transformers import AutoModelForSequenceClassification, AutoTokenizer"
   ]
  },
  {
   "cell_type": "code",
   "execution_count": null,
   "metadata": {},
   "outputs": [],
   "source": [
    "textarea = widgets.Textarea(\n",
    "    value=\"I am so happy today!\",\n",
    "    placeholder=\"Insert text here\",\n",
    "    description=\"Text:\",\n",
    "    disabled=False,\n",
    ")\n",
    "\n",
    "display(textarea)"
   ]
  },
  {
   "cell_type": "code",
   "execution_count": null,
   "metadata": {},
   "outputs": [],
   "source": [
    "# model_name = \"j-hartmann/emotion-english-distilroberta-base\"\n",
    "model_name = \"michellejieli/emotion_text_classifier\"\n",
    "tokenizer = AutoTokenizer.from_pretrained(model_name, use_fast=True)\n",
    "model = AutoModelForSequenceClassification.from_pretrained(model_name)\n",
    "\n",
    "inputs = tokenizer(textarea.value, return_tensors=\"pt\")\n",
    "\n",
    "with torch.no_grad():\n",
    "    outputs = model(**inputs)\n",
    "\n",
    "probs = torch.nn.functional.softmax(outputs.logits, dim=-1).squeeze()\n",
    "emotion_labels = model.config.id2label\n",
    "emotion_scores = {emotion_labels[i]: probs[i].item() for i in range(len(probs))}\n",
    "emotion_scores = dict(\n",
    "    sorted(emotion_scores.items(), key=lambda item: item[1], reverse=True)\n",
    ")\n",
    "\n",
    "emotions = list(emotion_scores.keys())\n",
    "scores = list(emotion_scores.values())\n",
    "\n",
    "plt.figure(figsize=(8, 4))\n",
    "sns.barplot(x=emotions, y=scores, palette=\"viridis\", hue=emotions)\n",
    "plt.xlabel(\"Emotion\")\n",
    "plt.ylabel(\"Confidence Score\")\n",
    "plt.title(\"Emotion Predictions\")\n",
    "plt.ylim(0, 1)\n",
    "plt.show()\n",
    "\n",
    "print(\"\\nEmotion Predictions:\\n\")\n",
    "for emotion, score in emotion_scores.items():\n",
    "    print(f\"- {emotion}: {score:.4f}\")\n",
    "\n",
    "top_emotion_index = torch.argmax(probs).item()\n",
    "top_emotion = emotion_labels[top_emotion_index]\n",
    "\n",
    "print(\n",
    "    f\"\\nPredominant Emotion: {top_emotion} (Confidence: {emotion_scores[top_emotion]:.4f})\"\n",
    ")"
   ]
  }
 ],
 "metadata": {
  "kernelspec": {
   "display_name": ".venv",
   "language": "python",
   "name": "python3"
  },
  "language_info": {
   "codemirror_mode": {
    "name": "ipython",
    "version": 3
   },
   "file_extension": ".py",
   "mimetype": "text/x-python",
   "name": "python",
   "nbconvert_exporter": "python",
   "pygments_lexer": "ipython3",
   "version": "3.11.11"
  }
 },
 "nbformat": 4,
 "nbformat_minor": 2
}
